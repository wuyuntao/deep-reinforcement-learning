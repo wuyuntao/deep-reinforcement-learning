{
 "cells": [
  {
   "cell_type": "code",
   "execution_count": 1,
   "metadata": {
    "collapsed": true
   },
   "outputs": [],
   "source": [
    "import tensorflow as tf\n",
    "import tensorlayer as tl"
   ]
  },
  {
   "cell_type": "code",
   "execution_count": 2,
   "metadata": {
    "collapsed": true
   },
   "outputs": [],
   "source": [
    "sess = tf.InteractiveSession()"
   ]
  },
  {
   "cell_type": "code",
   "execution_count": 3,
   "metadata": {
    "collapsed": false
   },
   "outputs": [
    {
     "name": "stdout",
     "output_type": "stream",
     "text": [
      "Load or Download MNIST > MNIST_data\n",
      "MNIST_data/train-images-idx3-ubyte.gz\n",
      "MNIST_data/t10k-images-idx3-ubyte.gz\n"
     ]
    }
   ],
   "source": [
    "# prepare data\n",
    "X_train, y_train, X_val, y_val, X_test, y_test = tl.files.load_mnist_dataset((-1,784), \"MNIST_data\")"
   ]
  },
  {
   "cell_type": "code",
   "execution_count": 4,
   "metadata": {
    "collapsed": true
   },
   "outputs": [],
   "source": [
    "# define placeholder\n",
    "x = tf.placeholder(tf.float32, shape=[None, 784], name='x')\n",
    "y_ = tf.placeholder(tf.int64, shape=[None, ], name='y_')"
   ]
  },
  {
   "cell_type": "code",
   "execution_count": 5,
   "metadata": {
    "collapsed": false
   },
   "outputs": [
    {
     "name": "stdout",
     "output_type": "stream",
     "text": [
      "  tensorlayer:Instantiate InputLayer  input_layer: (?, 784)\n",
      "  tensorlayer:Instantiate DropoutLayer drop1: keep: 0.800000 is_fix: False\n",
      "  tensorlayer:Instantiate DenseLayer  relu1: 800, relu\n",
      "  tensorlayer:Instantiate DropoutLayer drop2: keep: 0.500000 is_fix: False\n",
      "  tensorlayer:Instantiate DenseLayer  relu2: 800, relu\n",
      "  tensorlayer:Instantiate DropoutLayer drop3: keep: 0.500000 is_fix: False\n",
      "  tensorlayer:Instantiate DenseLayer  output_layer: 10, identity\n"
     ]
    }
   ],
   "source": [
    "# define the network\n",
    "network = tl.layers.InputLayer(x, name='input_layer')\n",
    "network = tl.layers.DropoutLayer(network, keep=0.8, name='drop1')\n",
    "network = tl.layers.DenseLayer(network, n_units=800, act=tf.nn.relu, name='relu1')\n",
    "network = tl.layers.DropoutLayer(network, keep=0.5, name='drop2')\n",
    "network = tl.layers.DenseLayer(network, n_units=800, act=tf.nn.relu, name='relu2')\n",
    "network = tl.layers.DropoutLayer(network, keep=0.5, name='drop3')\n",
    "# the softmax is implemented internally in tl.cost.cross_entropy(y, y_) to\n",
    "# speed up computation, so we use identity here.\n",
    "# see tf.nn.sparse_softmax_cross_entropy_with_logits()\n",
    "network = tl.layers.DenseLayer(network, n_units=10, act = tf.identity, name='output_layer')"
   ]
  },
  {
   "cell_type": "code",
   "execution_count": 6,
   "metadata": {
    "collapsed": true
   },
   "outputs": [],
   "source": [
    "# define cost function and metric.\n",
    "y = network.outputs\n",
    "cost = tl.cost.cross_entropy(y, y_)\n",
    "correct_prediction = tf.equal(tf.argmax(y, 1), y_)\n",
    "acc = tf.reduce_mean(tf.cast(correct_prediction, tf.float32))\n",
    "y_op = tf.argmax(tf.nn.softmax(y), 1)"
   ]
  },
  {
   "cell_type": "code",
   "execution_count": 7,
   "metadata": {
    "collapsed": true
   },
   "outputs": [],
   "source": [
    "# define the optimizer\n",
    "train_params = network.all_params\n",
    "train_op = tf.train.AdamOptimizer(learning_rate=0.0001, \n",
    "                                  beta1=0.9, \n",
    "                                  beta2=0.999,\n",
    "                                  epsilon=1e-08, \n",
    "                                  use_locking=False).minimize(cost, var_list=train_params)"
   ]
  },
  {
   "cell_type": "code",
   "execution_count": 8,
   "metadata": {
    "collapsed": false
   },
   "outputs": [
    {
     "name": "stdout",
     "output_type": "stream",
     "text": [
      "  param   0: (784, 800)      (mean: -9.653186134528369e-05, median: -0.00011573695519473404, std: 0.08799777179956436)   relu1/W:0\n",
      "  param   1: (800,)          (mean: 0.0               , median: 0.0               , std: 0.0               )   relu1/b:0\n",
      "  param   2: (800, 800)      (mean: -1.8094489860231988e-05, median: -1.3125110854161903e-05, std: 0.08800297975540161)   relu2/W:0\n",
      "  param   3: (800,)          (mean: 0.0               , median: 0.0               , std: 0.0               )   relu2/b:0\n",
      "  param   4: (800, 10)       (mean: 0.00020693676196970046, median: -0.00037986214738339186, std: 0.08725804090499878)   output_layer/W:0\n",
      "  param   5: (10,)           (mean: 0.0               , median: 0.0               , std: 0.0               )   output_layer/b:0\n",
      "  num of params: 1276810\n",
      "  layer 0: Tensor(\"drop1/mul:0\", shape=(?, 784), dtype=float32)\n",
      "  layer 1: Tensor(\"relu1/Relu:0\", shape=(?, 800), dtype=float32)\n",
      "  layer 2: Tensor(\"drop2/mul:0\", shape=(?, 800), dtype=float32)\n",
      "  layer 3: Tensor(\"relu2/Relu:0\", shape=(?, 800), dtype=float32)\n",
      "  layer 4: Tensor(\"drop3/mul:0\", shape=(?, 800), dtype=float32)\n",
      "  layer 5: Tensor(\"output_layer/Identity:0\", shape=(?, 10), dtype=float32)\n"
     ]
    }
   ],
   "source": [
    "# initialize all variables in the session\n",
    "tl.layers.initialize_global_variables(sess)\n",
    "\n",
    "# print network information\n",
    "network.print_params()\n",
    "network.print_layers()"
   ]
  },
  {
   "cell_type": "code",
   "execution_count": 13,
   "metadata": {
    "collapsed": false
   },
   "outputs": [
    {
     "name": "stdout",
     "output_type": "stream",
     "text": [
      "Start training the network ...\n",
      "Epoch 1 of 20 took 91.714205s\n",
      "   val loss: 0.102000\n",
      "   val acc: 0.971200\n",
      "Epoch 5 of 20 took 95.402296s\n",
      "   val loss: 0.083910\n",
      "   val acc: 0.975600\n",
      "Epoch 10 of 20 took 95.267128s\n",
      "   val loss: 0.073865\n",
      "   val acc: 0.980200\n",
      "Epoch 15 of 20 took 100.388078s\n",
      "   val loss: 0.069307\n",
      "   val acc: 0.980900\n",
      "Epoch 20 of 20 took 93.259413s\n",
      "   val loss: 0.066839\n",
      "   val acc: 0.983200\n",
      "Total training time: 1886.120926s\n"
     ]
    }
   ],
   "source": [
    "# train the network\n",
    "tl.utils.fit(sess, network, train_op, cost, X_train, y_train, x, y_,\n",
    "             acc=acc, batch_size=5, n_epoch=20, print_freq=5,\n",
    "             X_val=X_val, y_val=y_val, eval_train=False)"
   ]
  },
  {
   "cell_type": "code",
   "execution_count": 14,
   "metadata": {
    "collapsed": false
   },
   "outputs": [
    {
     "name": "stdout",
     "output_type": "stream",
     "text": [
      "Start testing the network ...\n",
      "   test loss: 0.062311\n",
      "   test acc: 0.984100\n"
     ]
    }
   ],
   "source": [
    "# evaluation\n",
    "tl.utils.test(sess, network, acc, X_test, y_test, x, y_, batch_size=None, cost=cost)"
   ]
  },
  {
   "cell_type": "code",
   "execution_count": 16,
   "metadata": {
    "collapsed": false
   },
   "outputs": [
    {
     "name": "stdout",
     "output_type": "stream",
     "text": [
      "Model is saved to: logs/model.npz\n"
     ]
    }
   ],
   "source": [
    "# save the network to .npz file\n",
    "tl.files.save_npz(network.all_params , name='logs/model.npz')\n",
    "sess.close()"
   ]
  },
  {
   "cell_type": "code",
   "execution_count": null,
   "metadata": {
    "collapsed": true
   },
   "outputs": [],
   "source": []
  }
 ],
 "metadata": {
  "kernelspec": {
   "display_name": "Python 3",
   "language": "python",
   "name": "python3"
  },
  "language_info": {
   "codemirror_mode": {
    "name": "ipython",
    "version": 3
   },
   "file_extension": ".py",
   "mimetype": "text/x-python",
   "name": "python",
   "nbconvert_exporter": "python",
   "pygments_lexer": "ipython3",
   "version": "3.5.2"
  }
 },
 "nbformat": 4,
 "nbformat_minor": 2
}
