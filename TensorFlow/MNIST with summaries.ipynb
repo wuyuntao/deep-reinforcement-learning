{
 "cells": [
  {
   "cell_type": "code",
   "execution_count": 1,
   "metadata": {
    "collapsed": true
   },
   "outputs": [],
   "source": [
    "import tensorflow as tf\n",
    "\n",
    "from tensorflow.examples.tutorials.mnist import input_data"
   ]
  },
  {
   "cell_type": "code",
   "execution_count": 2,
   "metadata": {
    "collapsed": false
   },
   "outputs": [
    {
     "name": "stdout",
     "output_type": "stream",
     "text": [
      "Successfully downloaded train-images-idx3-ubyte.gz 9912422 bytes.\n",
      "Extracting MNIST_data/train-images-idx3-ubyte.gz\n",
      "Successfully downloaded train-labels-idx1-ubyte.gz 28881 bytes.\n",
      "Extracting MNIST_data/train-labels-idx1-ubyte.gz\n",
      "Successfully downloaded t10k-images-idx3-ubyte.gz 1648877 bytes.\n",
      "Extracting MNIST_data/t10k-images-idx3-ubyte.gz\n",
      "Successfully downloaded t10k-labels-idx1-ubyte.gz 4542 bytes.\n",
      "Extracting MNIST_data/t10k-labels-idx1-ubyte.gz\n"
     ]
    }
   ],
   "source": [
    "# Import data\n",
    "mnist = input_data.read_data_sets('MNIST_data/',\n",
    "                                  one_hot=True)\n",
    "\n",
    "sess = tf.InteractiveSession()"
   ]
  },
  {
   "cell_type": "code",
   "execution_count": 3,
   "metadata": {
    "collapsed": true
   },
   "outputs": [],
   "source": [
    "# Create a multilayer model.\n",
    "\n",
    "# Input placeholders\n",
    "with tf.name_scope('input'):\n",
    "    x = tf.placeholder(tf.float32, [None, 784], name='x-input')\n",
    "    y_ = tf.placeholder(tf.float32, [None, 10], name='y-input')\n",
    "\n",
    "with tf.name_scope('input_reshape'):\n",
    "    image_shaped_input = tf.reshape(x, [-1, 28, 28, 1])    "
   ]
  },
  {
   "cell_type": "code",
   "execution_count": 4,
   "metadata": {
    "collapsed": true
   },
   "outputs": [],
   "source": [
    "# We can't initialize these variables to 0 - the network will get stuck.\n",
    "def weight_variable(shape):\n",
    "    \"\"\"Create a weight variable with appropriate initialization.\"\"\"\n",
    "    initial = tf.truncated_normal(shape, stddev=0.1)\n",
    "    return tf.Variable(initial)"
   ]
  },
  {
   "cell_type": "code",
   "execution_count": 5,
   "metadata": {
    "collapsed": true
   },
   "outputs": [],
   "source": [
    "def bias_variable(shape):\n",
    "    \"\"\"Create a bias variable with appropriate initialization.\"\"\"\n",
    "    initial = tf.constant(0.1, shape=shape)\n",
    "    return tf.Variable(initial)"
   ]
  },
  {
   "cell_type": "code",
   "execution_count": 6,
   "metadata": {
    "collapsed": true
   },
   "outputs": [],
   "source": [
    "def variable_summaries(var):\n",
    "    \"\"\"Attach a lot of summaries to a Tensor (for TensorBoard visualization).\"\"\"\n",
    "    with tf.name_scope('summaries'):\n",
    "        mean = tf.reduce_mean(var)\n",
    "        tf.summary.scalar('mean', mean)\n",
    "        with tf.name_scope('stddev'):\n",
    "            stddev = tf.sqrt(tf.reduce_mean(tf.square(var - mean)))\n",
    "        tf.summary.scalar('stddev', stddev)\n",
    "        tf.summary.scalar('max', tf.reduce_max(var))\n",
    "        tf.summary.scalar('min', tf.reduce_min(var))\n",
    "        tf.summary.histogram('histogram', var)"
   ]
  },
  {
   "cell_type": "code",
   "execution_count": 7,
   "metadata": {
    "collapsed": true
   },
   "outputs": [],
   "source": [
    "def nn_layer(input_tensor, input_dim, output_dim, layer_name, act=tf.nn.relu):\n",
    "    \"\"\"Reusable code for making a simple neural net layer.\n",
    "\n",
    "    It does a matrix multiply, bias add, and then uses relu to nonlinearize.\n",
    "    It also sets up name scoping so that the resultant graph is easy to read,\n",
    "    and adds a number of summary ops.\n",
    "    \"\"\"\n",
    "    # Adding a name scope ensures logical grouping of the layers in the graph.\n",
    "    with tf.name_scope(layer_name):\n",
    "        # This Variable will hold the state of the weights for the layer\n",
    "        with tf.name_scope('weights'):\n",
    "            weights = weight_variable([input_dim, output_dim])\n",
    "            variable_summaries(weights)\n",
    "        with tf.name_scope('biases'):\n",
    "            biases = bias_variable([output_dim])\n",
    "            variable_summaries(biases)\n",
    "        with tf.name_scope('Wx_plus_b'):\n",
    "            preactivate = tf.matmul(input_tensor, weights) + biases\n",
    "            tf.summary.histogram('pre_activations', preactivate)\n",
    "        activations = act(preactivate, name='activation')\n",
    "        tf.summary.histogram('activations', activations)\n",
    "        return activations"
   ]
  },
  {
   "cell_type": "code",
   "execution_count": 8,
   "metadata": {
    "collapsed": true
   },
   "outputs": [],
   "source": [
    "hidden1 = nn_layer(x, 784, 500, 'layer1')\n",
    "\n",
    "with tf.name_scope('dropout'):\n",
    "    keep_prob = tf.placeholder(tf.float32)\n",
    "    tf.summary.scalar('dropout_keep_probability', keep_prob)\n",
    "    dropped = tf.nn.dropout(hidden1, keep_prob)"
   ]
  },
  {
   "cell_type": "code",
   "execution_count": 9,
   "metadata": {
    "collapsed": true
   },
   "outputs": [],
   "source": [
    "# Do not apply softmax activation yet, see below.\n",
    "y = nn_layer(dropped, 500, 10, 'layer2', act=tf.identity)\n",
    "\n",
    "with tf.name_scope('cross_entropy'):\n",
    "    # The raw formulation of cross-entropy,\n",
    "    #\n",
    "    # tf.reduce_mean(-tf.reduce_sum(y_ * tf.log(tf.softmax(y)),\n",
    "    #                               reduction_indices=[1]))\n",
    "    #\n",
    "    # can be numerically unstable.\n",
    "    #\n",
    "    # So here we use tf.nn.softmax_cross_entropy_with_logits on the\n",
    "    # raw outputs of the nn_layer above, and then average across\n",
    "    # the batch.\n",
    "    diff = tf.nn.softmax_cross_entropy_with_logits(labels=y_, logits=y)\n",
    "    with tf.name_scope('total'):\n",
    "        cross_entropy = tf.reduce_mean(diff)\n",
    "    tf.summary.scalar('cross_entropy', cross_entropy)"
   ]
  },
  {
   "cell_type": "code",
   "execution_count": 10,
   "metadata": {
    "collapsed": false
   },
   "outputs": [],
   "source": [
    "with tf.name_scope('train'):\n",
    "    train_step = tf.train.AdamOptimizer(0.0001).minimize(cross_entropy)"
   ]
  },
  {
   "cell_type": "code",
   "execution_count": 11,
   "metadata": {
    "collapsed": true
   },
   "outputs": [],
   "source": [
    "with tf.name_scope('accuracy'):\n",
    "    with tf.name_scope('correct_prediction'):\n",
    "        correct_prediction = tf.equal(tf.argmax(y, 1), tf.argmax(y_, 1))\n",
    "    with tf.name_scope('accuracy'):\n",
    "        accuracy = tf.reduce_mean(tf.cast(correct_prediction, tf.float32))\n",
    "    tf.summary.scalar('accuracy', accuracy)"
   ]
  },
  {
   "cell_type": "code",
   "execution_count": 12,
   "metadata": {
    "collapsed": false
   },
   "outputs": [],
   "source": [
    "# Merge all the summaries and write them out to /tmp/mnist_logs (by default)\n",
    "merged = tf.summary.merge_all()\n",
    "train_writer = tf.summary.FileWriter('logs/MNIST_train', sess.graph)\n",
    "test_writer = tf.summary.FileWriter('logs/MNIST_test')\n",
    "tf.global_variables_initializer().run()"
   ]
  },
  {
   "cell_type": "code",
   "execution_count": 13,
   "metadata": {
    "collapsed": true
   },
   "outputs": [],
   "source": [
    "# Train the model, and also write summaries.\n",
    "# Every 10th step, measure test-set accuracy, and write test summaries\n",
    "# All other steps, run train_step on training data, & add training summaries\n",
    "\n",
    "def feed_dict(train):\n",
    "    \"\"\"Make a TensorFlow feed_dict: maps data onto Tensor placeholders.\"\"\"\n",
    "    if train:\n",
    "        xs, ys = mnist.train.next_batch(100, fake_data=False)\n",
    "        k = 0.9\n",
    "    else:\n",
    "        xs, ys = mnist.test.images, mnist.test.labels\n",
    "        k = 1.0\n",
    "    return {x: xs, y_: ys, keep_prob: k}"
   ]
  },
  {
   "cell_type": "code",
   "execution_count": 14,
   "metadata": {
    "collapsed": false
   },
   "outputs": [
    {
     "name": "stdout",
     "output_type": "stream",
     "text": [
      "Accuracy at step 0: 0.0977\n",
      "Accuracy at step 10: 0.0842\n",
      "Accuracy at step 20: 0.1499\n",
      "Accuracy at step 30: 0.269\n",
      "Accuracy at step 40: 0.3874\n",
      "Accuracy at step 50: 0.4814\n",
      "Accuracy at step 60: 0.5546\n",
      "Accuracy at step 70: 0.6079\n",
      "Accuracy at step 80: 0.6471\n",
      "Accuracy at step 90: 0.675\n",
      "Adding run metadata for 99\n",
      "Accuracy at step 100: 0.7034\n",
      "Accuracy at step 110: 0.7248\n",
      "Accuracy at step 120: 0.7425\n",
      "Accuracy at step 130: 0.7604\n",
      "Accuracy at step 140: 0.7725\n",
      "Accuracy at step 150: 0.7831\n",
      "Accuracy at step 160: 0.7938\n",
      "Accuracy at step 170: 0.8018\n",
      "Accuracy at step 180: 0.8083\n",
      "Accuracy at step 190: 0.8184\n",
      "Adding run metadata for 199\n",
      "Accuracy at step 200: 0.8274\n",
      "Accuracy at step 210: 0.8316\n",
      "Accuracy at step 220: 0.8356\n",
      "Accuracy at step 230: 0.8435\n",
      "Accuracy at step 240: 0.8476\n",
      "Accuracy at step 250: 0.8527\n",
      "Accuracy at step 260: 0.8551\n",
      "Accuracy at step 270: 0.858\n",
      "Accuracy at step 280: 0.8604\n",
      "Accuracy at step 290: 0.8625\n",
      "Adding run metadata for 299\n",
      "Accuracy at step 300: 0.8649\n",
      "Accuracy at step 310: 0.8706\n",
      "Accuracy at step 320: 0.8725\n",
      "Accuracy at step 330: 0.8752\n",
      "Accuracy at step 340: 0.8762\n",
      "Accuracy at step 350: 0.8771\n",
      "Accuracy at step 360: 0.8779\n",
      "Accuracy at step 370: 0.8799\n",
      "Accuracy at step 380: 0.8827\n",
      "Accuracy at step 390: 0.8838\n",
      "Adding run metadata for 399\n",
      "Accuracy at step 400: 0.8838\n",
      "Accuracy at step 410: 0.8832\n",
      "Accuracy at step 420: 0.8846\n",
      "Accuracy at step 430: 0.8875\n",
      "Accuracy at step 440: 0.8889\n",
      "Accuracy at step 450: 0.8903\n",
      "Accuracy at step 460: 0.8915\n",
      "Accuracy at step 470: 0.8917\n",
      "Accuracy at step 480: 0.8935\n",
      "Accuracy at step 490: 0.8932\n",
      "Adding run metadata for 499\n",
      "Accuracy at step 500: 0.8958\n",
      "Accuracy at step 510: 0.8978\n",
      "Accuracy at step 520: 0.8979\n",
      "Accuracy at step 530: 0.8985\n",
      "Accuracy at step 540: 0.899\n",
      "Accuracy at step 550: 0.8999\n",
      "Accuracy at step 560: 0.9001\n",
      "Accuracy at step 570: 0.9008\n",
      "Accuracy at step 580: 0.9009\n",
      "Accuracy at step 590: 0.9025\n",
      "Adding run metadata for 599\n",
      "Accuracy at step 600: 0.9025\n",
      "Accuracy at step 610: 0.9032\n",
      "Accuracy at step 620: 0.9029\n",
      "Accuracy at step 630: 0.9037\n",
      "Accuracy at step 640: 0.9038\n",
      "Accuracy at step 650: 0.905\n",
      "Accuracy at step 660: 0.906\n",
      "Accuracy at step 670: 0.9057\n",
      "Accuracy at step 680: 0.9082\n",
      "Accuracy at step 690: 0.9072\n",
      "Adding run metadata for 699\n",
      "Accuracy at step 700: 0.9083\n",
      "Accuracy at step 710: 0.9094\n",
      "Accuracy at step 720: 0.909\n",
      "Accuracy at step 730: 0.9098\n",
      "Accuracy at step 740: 0.9098\n",
      "Accuracy at step 750: 0.9103\n",
      "Accuracy at step 760: 0.9118\n",
      "Accuracy at step 770: 0.9135\n",
      "Accuracy at step 780: 0.9131\n",
      "Accuracy at step 790: 0.9134\n",
      "Adding run metadata for 799\n",
      "Accuracy at step 800: 0.9133\n",
      "Accuracy at step 810: 0.9138\n",
      "Accuracy at step 820: 0.9135\n",
      "Accuracy at step 830: 0.9146\n",
      "Accuracy at step 840: 0.9159\n",
      "Accuracy at step 850: 0.9166\n",
      "Accuracy at step 860: 0.917\n",
      "Accuracy at step 870: 0.9157\n",
      "Accuracy at step 880: 0.9158\n",
      "Accuracy at step 890: 0.9144\n",
      "Adding run metadata for 899\n",
      "Accuracy at step 900: 0.9161\n",
      "Accuracy at step 910: 0.9176\n",
      "Accuracy at step 920: 0.9189\n",
      "Accuracy at step 930: 0.9188\n",
      "Accuracy at step 940: 0.9191\n",
      "Accuracy at step 950: 0.9199\n",
      "Accuracy at step 960: 0.9207\n",
      "Accuracy at step 970: 0.9198\n",
      "Accuracy at step 980: 0.9192\n",
      "Accuracy at step 990: 0.9196\n",
      "Adding run metadata for 999\n"
     ]
    }
   ],
   "source": [
    "for i in range(1000):\n",
    "    if i % 10 == 0:  # Record summaries and test-set accuracy\n",
    "        summary, acc = sess.run([merged, accuracy], feed_dict=feed_dict(False))\n",
    "        test_writer.add_summary(summary, i)\n",
    "        print('Accuracy at step %s: %s' % (i, acc))\n",
    "    else:  # Record train set summaries, and train\n",
    "        if i % 100 == 99:  # Record execution stats\n",
    "            run_options = tf.RunOptions(trace_level=tf.RunOptions.FULL_TRACE)\n",
    "            run_metadata = tf.RunMetadata()\n",
    "            summary, _ = sess.run([merged, train_step],\n",
    "                                  feed_dict=feed_dict(True),\n",
    "                                  options=run_options,\n",
    "                                  run_metadata=run_metadata)\n",
    "            train_writer.add_run_metadata(run_metadata, 'step%03d' % i)\n",
    "            train_writer.add_summary(summary, i)\n",
    "            print('Adding run metadata for', i)\n",
    "        else:  # Record a summary\n",
    "            summary, _ = sess.run([merged, train_step], feed_dict=feed_dict(True))\n",
    "            train_writer.add_summary(summary, i)\n",
    "    train_writer.close()\n",
    "    test_writer.close()"
   ]
  },
  {
   "cell_type": "code",
   "execution_count": null,
   "metadata": {
    "collapsed": true
   },
   "outputs": [],
   "source": []
  }
 ],
 "metadata": {
  "kernelspec": {
   "display_name": "Python 3",
   "language": "python",
   "name": "python3"
  },
  "language_info": {
   "codemirror_mode": {
    "name": "ipython",
    "version": 3
   },
   "file_extension": ".py",
   "mimetype": "text/x-python",
   "name": "python",
   "nbconvert_exporter": "python",
   "pygments_lexer": "ipython3",
   "version": "3.5.2"
  }
 },
 "nbformat": 4,
 "nbformat_minor": 2
}
