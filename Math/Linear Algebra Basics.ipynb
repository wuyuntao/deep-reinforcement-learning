{
 "cells": [
  {
   "cell_type": "markdown",
   "metadata": {},
   "source": [
    "Mathematical objects\n",
    "==\n",
    "\n",
    "* *Scalars*: A scalar is just a single number\n",
    "* *Vectors*: A vector is an array of numbers\n",
    "* *Matrices*: A matrix is a 2-D array of numbers\n",
    "* *Tensors*: An array of numbers arranged on a regular grid with a variable number of axes"
   ]
  },
  {
   "cell_type": "code",
   "execution_count": 1,
   "metadata": {
    "collapsed": true
   },
   "outputs": [],
   "source": [
    "import numpy as np"
   ]
  },
  {
   "cell_type": "code",
   "execution_count": 21,
   "metadata": {
    "collapsed": false
   },
   "outputs": [
    {
     "name": "stdout",
     "output_type": "stream",
     "text": [
      "a: [[ 1.  2.]\n",
      " [ 2.  3.]\n",
      " [ 3.  4.]]\n",
      "aT: [[ 1.  2.  3.]\n",
      " [ 2.  3.  4.]]\n"
     ]
    }
   ],
   "source": [
    "a = np.array([[1, 2], [2, 3], [3, 4]], dtype=np.float)\n",
    "print('a:', a)\n",
    "print('aT:', np.transpose(a))"
   ]
  },
  {
   "cell_type": "code",
   "execution_count": 18,
   "metadata": {
    "collapsed": false
   },
   "outputs": [
    {
     "name": "stdout",
     "output_type": "stream",
     "text": [
      "b: [[-2. -1.]\n",
      " [ 4.  5.]\n",
      " [-4. -3.]]\n",
      "2 * a + b + 1: [[  2.   5.]\n",
      " [ 10.  13.]\n",
      " [  4.   7.]]\n",
      "a * b: [[ -2.  -2.]\n",
      " [  8.  15.]\n",
      " [-12. -12.]]\n"
     ]
    }
   ],
   "source": [
    "# We can add matrices to each other, as long as they have the same shape\n",
    "b = np.array([[-2, -1], [4, 5], [-4, -3]], dtype=np.float)\n",
    "print('b:', b)\n",
    "print('2 * a + b + 1:', 2 * a + b + 2)\n",
    "# element-wise product or Hadamard product\n",
    "print('a * b:', a * b)"
   ]
  },
  {
   "cell_type": "code",
   "execution_count": 19,
   "metadata": {
    "collapsed": false
   },
   "outputs": [
    {
     "name": "stdout",
     "output_type": "stream",
     "text": [
      "c: [[ 1.  2.  3.  4.]\n",
      " [ 4.  5.  6.  8.]]\n",
      "a dot c: [[  9.  12.  15.  20.]\n",
      " [ 14.  19.  24.  32.]\n",
      " [ 19.  26.  33.  44.]]\n"
     ]
    }
   ],
   "source": [
    "# The matrix product of matrices A and B is a third matrix C.\n",
    "# In order for this product to be defined, A must have the same number of columns as B has rows.\n",
    "# If A is of shape m × n and B is of shape n × p, then C is of shape m × p.\n",
    "c = np.array([[1, 2, 3, 4], [4, 5, 6, 8]], dtype=np.float)\n",
    "print('c:', c)\n",
    "print('a dot c:', np.dot(a, c))"
   ]
  },
  {
   "cell_type": "code",
   "execution_count": 20,
   "metadata": {
    "collapsed": false
   },
   "outputs": [
    {
     "name": "stdout",
     "output_type": "stream",
     "text": [
      "[[  5.   6.   7.   8.]\n",
      " [ 10.  12.  14.  16.]\n",
      " [ 15.  18.  21.  24.]\n",
      " [ 20.  24.  28.  32.]]\n",
      "[[  5.  10.  15.  20.]\n",
      " [  6.  12.  18.  24.]\n",
      " [  7.  14.  21.  28.]\n",
      " [  8.  16.  24.  32.]]\n"
     ]
    }
   ],
   "source": [
    "# Matrix multiplication is not commutative (the condition AB = BA does not always hold),\n",
    "# However, the dot product between two vectors is commutative: xTy = yTx.\n",
    "d = np.array([[1, 2, 3, 4]], dtype=np.float)\n",
    "e = np.array([[5, 6, 7, 8]], dtype=np.float)\n",
    "print(np.dot(np.transpose(d), e))\n",
    "print(np.dot(np.transpose(e), d))"
   ]
  },
  {
   "cell_type": "code",
   "execution_count": 24,
   "metadata": {
    "collapsed": false
   },
   "outputs": [
    {
     "name": "stdout",
     "output_type": "stream",
     "text": [
      "[[ 1.  0.  0.]\n",
      " [ 0.  1.  0.]\n",
      " [ 0.  0.  1.]]\n"
     ]
    }
   ],
   "source": [
    "# An identity matrix is a matrix that does not change any vector when we multiply that vector by that matrix.\n",
    "print(np.identity(3, dtype=np.float))"
   ]
  },
  {
   "cell_type": "code",
   "execution_count": 32,
   "metadata": {
    "collapsed": false
   },
   "outputs": [
    {
     "name": "stdout",
     "output_type": "stream",
     "text": [
      "aI: [[-1.83333333 -0.33333333  1.16666667]\n",
      " [ 1.33333333  0.33333333 -0.66666667]]\n",
      "aIa = In [[  1.00000000e+00   1.77635684e-15]\n",
      " [  3.33066907e-16   1.00000000e+00]]\n"
     ]
    }
   ],
   "source": [
    "# The matrix inverse of A is denoted as A−1, and it is defined as the matrix such that A−1A = In.\n",
    "aI = np.matrix.getI(a)\n",
    "print('aI:', aI)\n",
    "print('aIa = In', np.matrix.dot(aI, a))"
   ]
  },
  {
   "cell_type": "code",
   "execution_count": 37,
   "metadata": {
    "collapsed": false
   },
   "outputs": [
    {
     "name": "stdout",
     "output_type": "stream",
     "text": [
      "norm: 6.54675563644\n"
     ]
    }
   ],
   "source": [
    "# usually measure the size of vectors using a function called a *norm*.\n",
    "print('norm:', np.linalg.norm(a, ord=2))"
   ]
  },
  {
   "cell_type": "markdown",
   "metadata": {},
   "source": [
    "Special kins of matrices and vectors\n",
    "==\n",
    "\n",
    "* *Diagonal matrices* consist mostly of zeros and have non-zero entries only along the main diagonal.\n",
    "* A *symmetric matrix* is any matrix that is equal to its own transpose\n",
    "* A *unit vector* is a vector with *unit norm*\n",
    "* A vector **x** and a vector **y** are *orthogonal* to each other if `np.dot(np.transpose(x), y) == 0`\n",
    "* If the vectors are not only *orthogonal* but also have *unit norm*, we call them *orthonormal*\n",
    "* An *orthogonal matrix* is a square matrix whose rows are mutually orthonormal and whose columns are mutually orthonormal\n",
    "* The *determinant* of a square matrix, denoted det(A), is a function mapping matrices to real scalars.\n",
    "* The *trace operator* gives the sum of all of the diagonal entries of a matrix\n",
    "* The *singular value decomposition (SVD)* provides another way to factorize a matrix, into *singular vectors* and *singular values*"
   ]
  },
  {
   "cell_type": "markdown",
   "metadata": {},
   "source": []
  }
 ],
 "metadata": {
  "kernelspec": {
   "display_name": "Python 3",
   "language": "python",
   "name": "python3"
  },
  "language_info": {
   "codemirror_mode": {
    "name": "ipython",
    "version": 3
   },
   "file_extension": ".py",
   "mimetype": "text/x-python",
   "name": "python",
   "nbconvert_exporter": "python",
   "pygments_lexer": "ipython3",
   "version": "3.5.2"
  }
 },
 "nbformat": 4,
 "nbformat_minor": 2
}
